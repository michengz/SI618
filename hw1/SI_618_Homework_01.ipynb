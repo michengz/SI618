{
 "cells": [
  {
   "cell_type": "markdown",
   "metadata": {
    "colab_type": "text",
    "id": "UGqk3SzXsMR3"
   },
   "source": [
    "# SI 618 - Homework #1: Data Manipulation\n",
    "\n",
    "Version 2022.01.17.01.CT"
   ]
  },
  {
   "cell_type": "markdown",
   "metadata": {
    "colab_type": "text",
    "id": "Crxe7LeXJ9yn"
   },
   "source": [
    "## Background"
   ]
  },
  {
   "cell_type": "markdown",
   "metadata": {
    "colab_type": "text",
    "id": "1IaTA3GNJ9yo"
   },
   "source": [
    "This homework assignment focuses on the analysis of biometric data and exercise performance."
   ]
  },
  {
   "cell_type": "markdown",
   "metadata": {
    "colab_type": "text",
    "id": "jae-nANHJ9yp"
   },
   "source": [
    "Your main task in this assignment is to explore the data *using the data\n",
    "manipulation methods we covered in class* as well as those in the assigned readings.  You may need to consult pandas documentation, Stack Overflow, or other online resources.  \n"
   ]
  },
  {
   "cell_type": "markdown",
   "metadata": {
    "colab_type": "text",
    "id": "pbqbtPreaCjs"
   },
   "source": [
    "A total of 100 points is available in this homework assignment, consisting of:\n",
    "- 80 points for completing the specific homework questions. More comprehensive \n",
    "answers will tend to gain more points.\n",
    "- 10 points for the overall quality of spelling, grammar, punctuation, and style of written responses  (see [Strunk & White](https://drive.google.com/file/d/1L0P7xJwjUGBvyb49mL3dw1Bt7hzRTiTl/view) for detailed specifications).\n",
    "- 10 points for creating code that conforms to [PEP 8](https://www.python.org/dev/peps/pep-0008/) guidelines.  You should review those guidelines before proceding with the assignment.\n"
   ]
  },
  {
   "cell_type": "markdown",
   "metadata": {
    "colab_type": "text",
    "id": "Pr9WBUQyZY4V",
    "tags": []
   },
   "source": [
    "## Download the data from: \n",
    "https://www.kaggle.com/kukuroo3/body-performance-data\n"
   ]
  },
  {
   "cell_type": "markdown",
   "metadata": {
    "colab_type": "text",
    "id": "8EV1PilWtl0Z"
   },
   "source": [
    "## Answer the following questions.\n",
    "Points for each question are shown below.\n",
    "\n",
    "For each question, you should\n",
    "1. Write code using Python and pandas that can help you answer the following questions, and\n",
    "2. Explain your answers in plain English. You should use complete sentences that would be understood by an educated professional who is not necessarily a data scientist (like a product manager).  When we ask for an explanation of your answer, we are interested in your interpretation of the analyses that you produce.  With the exception of Question 1a, we are not interested in a description of the steps you took to arrive at your answer."
   ]
  },
  {
   "cell_type": "code",
   "execution_count": 2,
   "metadata": {},
   "outputs": [],
   "source": [
    "import pandas as pd\n",
    "import matplotlib.pyplot as plt"
   ]
  },
  {
   "cell_type": "code",
   "execution_count": 3,
   "metadata": {},
   "outputs": [
    {
     "data": {
      "text/html": [
       "<div>\n",
       "<style scoped>\n",
       "    .dataframe tbody tr th:only-of-type {\n",
       "        vertical-align: middle;\n",
       "    }\n",
       "\n",
       "    .dataframe tbody tr th {\n",
       "        vertical-align: top;\n",
       "    }\n",
       "\n",
       "    .dataframe thead th {\n",
       "        text-align: right;\n",
       "    }\n",
       "</style>\n",
       "<table border=\"1\" class=\"dataframe\">\n",
       "  <thead>\n",
       "    <tr style=\"text-align: right;\">\n",
       "      <th></th>\n",
       "      <th>age</th>\n",
       "      <th>gender</th>\n",
       "      <th>height_cm</th>\n",
       "      <th>weight_kg</th>\n",
       "      <th>body fat_%</th>\n",
       "      <th>diastolic</th>\n",
       "      <th>systolic</th>\n",
       "      <th>gripForce</th>\n",
       "      <th>sit and bend forward_cm</th>\n",
       "      <th>sit-ups counts</th>\n",
       "      <th>broad jump_cm</th>\n",
       "      <th>class</th>\n",
       "    </tr>\n",
       "  </thead>\n",
       "  <tbody>\n",
       "    <tr>\n",
       "      <th>0</th>\n",
       "      <td>27.0</td>\n",
       "      <td>M</td>\n",
       "      <td>172.3</td>\n",
       "      <td>75.24</td>\n",
       "      <td>21.3</td>\n",
       "      <td>80.0</td>\n",
       "      <td>130.0</td>\n",
       "      <td>54.9</td>\n",
       "      <td>18.4</td>\n",
       "      <td>60.0</td>\n",
       "      <td>217.0</td>\n",
       "      <td>C</td>\n",
       "    </tr>\n",
       "    <tr>\n",
       "      <th>1</th>\n",
       "      <td>25.0</td>\n",
       "      <td>M</td>\n",
       "      <td>165.0</td>\n",
       "      <td>55.80</td>\n",
       "      <td>15.7</td>\n",
       "      <td>77.0</td>\n",
       "      <td>126.0</td>\n",
       "      <td>36.4</td>\n",
       "      <td>16.3</td>\n",
       "      <td>53.0</td>\n",
       "      <td>229.0</td>\n",
       "      <td>A</td>\n",
       "    </tr>\n",
       "    <tr>\n",
       "      <th>2</th>\n",
       "      <td>31.0</td>\n",
       "      <td>M</td>\n",
       "      <td>179.6</td>\n",
       "      <td>78.00</td>\n",
       "      <td>20.1</td>\n",
       "      <td>92.0</td>\n",
       "      <td>152.0</td>\n",
       "      <td>44.8</td>\n",
       "      <td>12.0</td>\n",
       "      <td>49.0</td>\n",
       "      <td>181.0</td>\n",
       "      <td>C</td>\n",
       "    </tr>\n",
       "    <tr>\n",
       "      <th>3</th>\n",
       "      <td>32.0</td>\n",
       "      <td>M</td>\n",
       "      <td>174.5</td>\n",
       "      <td>71.10</td>\n",
       "      <td>18.4</td>\n",
       "      <td>76.0</td>\n",
       "      <td>147.0</td>\n",
       "      <td>41.4</td>\n",
       "      <td>15.2</td>\n",
       "      <td>53.0</td>\n",
       "      <td>219.0</td>\n",
       "      <td>B</td>\n",
       "    </tr>\n",
       "    <tr>\n",
       "      <th>4</th>\n",
       "      <td>28.0</td>\n",
       "      <td>M</td>\n",
       "      <td>173.8</td>\n",
       "      <td>67.70</td>\n",
       "      <td>17.1</td>\n",
       "      <td>70.0</td>\n",
       "      <td>127.0</td>\n",
       "      <td>43.5</td>\n",
       "      <td>27.1</td>\n",
       "      <td>45.0</td>\n",
       "      <td>217.0</td>\n",
       "      <td>B</td>\n",
       "    </tr>\n",
       "  </tbody>\n",
       "</table>\n",
       "</div>"
      ],
      "text/plain": [
       "    age gender  height_cm  weight_kg  body fat_%  diastolic  systolic  \\\n",
       "0  27.0      M      172.3      75.24        21.3       80.0     130.0   \n",
       "1  25.0      M      165.0      55.80        15.7       77.0     126.0   \n",
       "2  31.0      M      179.6      78.00        20.1       92.0     152.0   \n",
       "3  32.0      M      174.5      71.10        18.4       76.0     147.0   \n",
       "4  28.0      M      173.8      67.70        17.1       70.0     127.0   \n",
       "\n",
       "   gripForce  sit and bend forward_cm  sit-ups counts  broad jump_cm class  \n",
       "0       54.9                     18.4            60.0          217.0     C  \n",
       "1       36.4                     16.3            53.0          229.0     A  \n",
       "2       44.8                     12.0            49.0          181.0     C  \n",
       "3       41.4                     15.2            53.0          219.0     B  \n",
       "4       43.5                     27.1            45.0          217.0     B  "
      ]
     },
     "execution_count": 3,
     "metadata": {},
     "output_type": "execute_result"
    }
   ],
   "source": [
    "df = pd.read_csv('bodyPerformance.csv')\n",
    "df.head(5)"
   ]
  },
  {
   "cell_type": "markdown",
   "metadata": {
    "colab_type": "text",
    "id": "PfjXDtHoabcS",
    "tags": []
   },
   "source": [
    "### <span style=\"color:magenta\"> Q1: 5 pt(total):</span>\n",
    "#### Q1a (2pt): Write out the steps you need to follow in order to describe the dataset, in terms of size, number of rows, and number of columns.\n",
    "\n"
   ]
  },
  {
   "cell_type": "markdown",
   "metadata": {},
   "source": [
    "* To obtain the size of the dataset, we could use \"df.size\" to get the product of number of rows and columns.\n",
    "* To obatin the number of rows and number of columns, we could use \"df.shape\"so that it returns both of the numbers that we want with just one line of code."
   ]
  },
  {
   "cell_type": "markdown",
   "metadata": {},
   "source": [
    "#### Q1b (3pt): Write and execute the code that will do the steps you identified in Part (a) of this question."
   ]
  },
  {
   "cell_type": "code",
   "execution_count": 204,
   "metadata": {},
   "outputs": [
    {
     "name": "stdout",
     "output_type": "stream",
     "text": [
      "160716\n",
      "(13393, 12)\n"
     ]
    }
   ],
   "source": [
    "print(df.size)\n",
    "print(df.shape)"
   ]
  },
  {
   "cell_type": "markdown",
   "metadata": {},
   "source": [
    "For this dataset, there are **13393 rows** and **12 columns**. The size of the dataset is **160716 entries**, which is also the product of the number of rows times the number of columns."
   ]
  },
  {
   "cell_type": "markdown",
   "metadata": {},
   "source": [
    "### <span style=\"color:magenta\">Q2: 5 pt:</span>\n",
    "Without using pd.DataFrame.describe(), report the median age, height, and weight for people in the data. Round your answer to the nearest whole number.  Be sure to indicate units for each variable in your write-up."
   ]
  },
  {
   "cell_type": "code",
   "execution_count": 205,
   "metadata": {},
   "outputs": [
    {
     "name": "stdout",
     "output_type": "stream",
     "text": [
      "32\n",
      "169\n",
      "67\n"
     ]
    }
   ],
   "source": [
    "print(round(df['age'].median()))\n",
    "print(round(df['height_cm'].median()))\n",
    "print(round(df['weight_kg'].median()))"
   ]
  },
  {
   "cell_type": "markdown",
   "metadata": {},
   "source": [
    "The median age, height, and weight for the people in the dataset are **32 years**, **169 centimeters**, and **67 kilograms**, resepectively."
   ]
  },
  {
   "cell_type": "markdown",
   "metadata": {},
   "source": [
    "### <span style=\"color:magenta\">Q3: 5 pt: </span>\n",
    "Look for any anomalous data points.  For example, are there cases where diastolic blood pressure is higher than systolic blood pressure (which is physiologically impossible)?  Do you notice any other anomalies?"
   ]
  },
  {
   "cell_type": "code",
   "execution_count": 206,
   "metadata": {},
   "outputs": [
    {
     "data": {
      "text/html": [
       "<div>\n",
       "<style scoped>\n",
       "    .dataframe tbody tr th:only-of-type {\n",
       "        vertical-align: middle;\n",
       "    }\n",
       "\n",
       "    .dataframe tbody tr th {\n",
       "        vertical-align: top;\n",
       "    }\n",
       "\n",
       "    .dataframe thead th {\n",
       "        text-align: right;\n",
       "    }\n",
       "</style>\n",
       "<table border=\"1\" class=\"dataframe\">\n",
       "  <thead>\n",
       "    <tr style=\"text-align: right;\">\n",
       "      <th></th>\n",
       "      <th>age</th>\n",
       "      <th>gender</th>\n",
       "      <th>height_cm</th>\n",
       "      <th>weight_kg</th>\n",
       "      <th>body fat_%</th>\n",
       "      <th>diastolic</th>\n",
       "      <th>systolic</th>\n",
       "      <th>gripForce</th>\n",
       "      <th>sit and bend forward_cm</th>\n",
       "      <th>sit-ups counts</th>\n",
       "      <th>broad jump_cm</th>\n",
       "      <th>class</th>\n",
       "    </tr>\n",
       "  </thead>\n",
       "  <tbody>\n",
       "    <tr>\n",
       "      <th>7495</th>\n",
       "      <td>30.0</td>\n",
       "      <td>F</td>\n",
       "      <td>156.2</td>\n",
       "      <td>52.80</td>\n",
       "      <td>28.2</td>\n",
       "      <td>156.2</td>\n",
       "      <td>104.0</td>\n",
       "      <td>21.7</td>\n",
       "      <td>27.2</td>\n",
       "      <td>43.0</td>\n",
       "      <td>162.0</td>\n",
       "      <td>C</td>\n",
       "    </tr>\n",
       "    <tr>\n",
       "      <th>7597</th>\n",
       "      <td>30.0</td>\n",
       "      <td>M</td>\n",
       "      <td>166.6</td>\n",
       "      <td>66.08</td>\n",
       "      <td>14.4</td>\n",
       "      <td>67.0</td>\n",
       "      <td>14.0</td>\n",
       "      <td>53.8</td>\n",
       "      <td>17.2</td>\n",
       "      <td>57.0</td>\n",
       "      <td>221.0</td>\n",
       "      <td>A</td>\n",
       "    </tr>\n",
       "    <tr>\n",
       "      <th>8217</th>\n",
       "      <td>31.0</td>\n",
       "      <td>M</td>\n",
       "      <td>176.7</td>\n",
       "      <td>80.32</td>\n",
       "      <td>20.8</td>\n",
       "      <td>46.2</td>\n",
       "      <td>43.9</td>\n",
       "      <td>43.9</td>\n",
       "      <td>17.2</td>\n",
       "      <td>57.0</td>\n",
       "      <td>221.0</td>\n",
       "      <td>B</td>\n",
       "    </tr>\n",
       "    <tr>\n",
       "      <th>12949</th>\n",
       "      <td>24.0</td>\n",
       "      <td>M</td>\n",
       "      <td>171.0</td>\n",
       "      <td>78.70</td>\n",
       "      <td>20.0</td>\n",
       "      <td>99.0</td>\n",
       "      <td>95.0</td>\n",
       "      <td>46.5</td>\n",
       "      <td>12.8</td>\n",
       "      <td>50.0</td>\n",
       "      <td>197.0</td>\n",
       "      <td>D</td>\n",
       "    </tr>\n",
       "  </tbody>\n",
       "</table>\n",
       "</div>"
      ],
      "text/plain": [
       "        age gender  height_cm  weight_kg  body fat_%  diastolic  systolic  \\\n",
       "7495   30.0      F      156.2      52.80        28.2      156.2     104.0   \n",
       "7597   30.0      M      166.6      66.08        14.4       67.0      14.0   \n",
       "8217   31.0      M      176.7      80.32        20.8       46.2      43.9   \n",
       "12949  24.0      M      171.0      78.70        20.0       99.0      95.0   \n",
       "\n",
       "       gripForce  sit and bend forward_cm  sit-ups counts  broad jump_cm class  \n",
       "7495        21.7                     27.2            43.0          162.0     C  \n",
       "7597        53.8                     17.2            57.0          221.0     A  \n",
       "8217        43.9                     17.2            57.0          221.0     B  \n",
       "12949       46.5                     12.8            50.0          197.0     D  "
      ]
     },
     "execution_count": 206,
     "metadata": {},
     "output_type": "execute_result"
    }
   ],
   "source": [
    "df[df['diastolic'] > df['systolic']]"
   ]
  },
  {
   "cell_type": "code",
   "execution_count": 207,
   "metadata": {},
   "outputs": [
    {
     "data": {
      "text/html": [
       "<div>\n",
       "<style scoped>\n",
       "    .dataframe tbody tr th:only-of-type {\n",
       "        vertical-align: middle;\n",
       "    }\n",
       "\n",
       "    .dataframe tbody tr th {\n",
       "        vertical-align: top;\n",
       "    }\n",
       "\n",
       "    .dataframe thead th {\n",
       "        text-align: right;\n",
       "    }\n",
       "</style>\n",
       "<table border=\"1\" class=\"dataframe\">\n",
       "  <thead>\n",
       "    <tr style=\"text-align: right;\">\n",
       "      <th></th>\n",
       "      <th>age</th>\n",
       "      <th>gender</th>\n",
       "      <th>height_cm</th>\n",
       "      <th>weight_kg</th>\n",
       "      <th>body fat_%</th>\n",
       "      <th>diastolic</th>\n",
       "      <th>systolic</th>\n",
       "      <th>gripForce</th>\n",
       "      <th>sit and bend forward_cm</th>\n",
       "      <th>sit-ups counts</th>\n",
       "      <th>broad jump_cm</th>\n",
       "      <th>class</th>\n",
       "    </tr>\n",
       "  </thead>\n",
       "  <tbody>\n",
       "    <tr>\n",
       "      <th>2657</th>\n",
       "      <td>33.0</td>\n",
       "      <td>M</td>\n",
       "      <td>165.6</td>\n",
       "      <td>60.4</td>\n",
       "      <td>17.8</td>\n",
       "      <td>81.0</td>\n",
       "      <td>127.0</td>\n",
       "      <td>38.6</td>\n",
       "      <td>213.0</td>\n",
       "      <td>53.0</td>\n",
       "      <td>244.0</td>\n",
       "      <td>B</td>\n",
       "    </tr>\n",
       "    <tr>\n",
       "      <th>3355</th>\n",
       "      <td>45.0</td>\n",
       "      <td>M</td>\n",
       "      <td>164.4</td>\n",
       "      <td>64.4</td>\n",
       "      <td>24.3</td>\n",
       "      <td>96.0</td>\n",
       "      <td>142.0</td>\n",
       "      <td>38.5</td>\n",
       "      <td>185.0</td>\n",
       "      <td>44.0</td>\n",
       "      <td>223.0</td>\n",
       "      <td>A</td>\n",
       "    </tr>\n",
       "  </tbody>\n",
       "</table>\n",
       "</div>"
      ],
      "text/plain": [
       "       age gender  height_cm  weight_kg  body fat_%  diastolic  systolic  \\\n",
       "2657  33.0      M      165.6       60.4        17.8       81.0     127.0   \n",
       "3355  45.0      M      164.4       64.4        24.3       96.0     142.0   \n",
       "\n",
       "      gripForce  sit and bend forward_cm  sit-ups counts  broad jump_cm class  \n",
       "2657       38.6                    213.0            53.0          244.0     B  \n",
       "3355       38.5                    185.0            44.0          223.0     A  "
      ]
     },
     "execution_count": 207,
     "metadata": {},
     "output_type": "execute_result"
    }
   ],
   "source": [
    "df[df['sit and bend forward_cm'] > df['height_cm']]"
   ]
  },
  {
   "cell_type": "markdown",
   "metadata": {},
   "source": [
    "In terms of blood pressure, there are 4 people in the dataset that were recorded with a higher diastolic pressure than their systolic blood pressure. Aside from that, I noticed there are two people in the dataset that had a higher \"sit and bend forward length\" than their body height, which may be physically impossible."
   ]
  },
  {
   "cell_type": "markdown",
   "metadata": {},
   "source": [
    "### <span style=\"color:magenta\">Q4: 10 pt:</span>\n",
    "Generate histogram plots for the age, weight, and height for gender F participants. Describe the plots and point out any interesting aspects."
   ]
  },
  {
   "cell_type": "code",
   "execution_count": 208,
   "metadata": {},
   "outputs": [
    {
     "data": {
      "text/plain": [
       "<AxesSubplot:ylabel='Frequency'>"
      ]
     },
     "execution_count": 208,
     "metadata": {},
     "output_type": "execute_result"
    },
    {
     "data": {
      "image/png": "[encoded data removed]",
      "text/plain": [
       "<Figure size 432x288 with 1 Axes>"
      ]
     },
     "metadata": {
      "needs_background": "light"
     },
     "output_type": "display_data"
    }
   ],
   "source": [
    "df[df['gender']=='F']['age'].plot.hist(bins = 20)"
   ]
  },
  {
   "cell_type": "markdown",
   "metadata": {},
   "source": [
    "The age distribution for the females in the dataset is significantly right-skewed based on the shape of the distribution. Most of them fall within in the 20 to 30 year-old range, while a fewer amount of people fall within the 30 to 70 year-old range."
   ]
  },
  {
   "cell_type": "code",
   "execution_count": 209,
   "metadata": {},
   "outputs": [
    {
     "data": {
      "text/plain": [
       "<AxesSubplot:ylabel='Frequency'>"
      ]
     },
     "execution_count": 209,
     "metadata": {},
     "output_type": "execute_result"
    },
    {
     "data": {
      "image/png": "[encoded data removed]",
      "text/plain": [
       "<Figure size 432x288 with 1 Axes>"
      ]
     },
     "metadata": {
      "needs_background": "light"
     },
     "output_type": "display_data"
    }
   ],
   "source": [
    "df[df['gender']=='F']['weight_kg'].plot.hist(bins = 30)"
   ]
  },
  {
   "cell_type": "markdown",
   "metadata": {},
   "source": [
    "The weight distribution for the females in the dataset is slightly right-skewed based on the shape of the distribution. The entire dataset falls between the range of 20 kilograms to 100 kilograms, and weights around 50 to 60 kilograms are the most frequent weights that were recorded."
   ]
  },
  {
   "cell_type": "code",
   "execution_count": 210,
   "metadata": {},
   "outputs": [
    {
     "data": {
      "text/plain": [
       "<AxesSubplot:ylabel='Frequency'>"
      ]
     },
     "execution_count": 210,
     "metadata": {},
     "output_type": "execute_result"
    },
    {
     "data": {
      "image/png": "[encoded data removed]",
      "text/plain": [
       "<Figure size 432x288 with 1 Axes>"
      ]
     },
     "metadata": {
      "needs_background": "light"
     },
     "output_type": "display_data"
    }
   ],
   "source": [
    "df[df['gender']=='F']['height_cm'].plot.hist(bins = 30)"
   ]
  },
  {
   "cell_type": "markdown",
   "metadata": {},
   "source": [
    "The height distribution is more normally-distributed compared to the age and weight distribution, with 155 to 165 centimeters being the most frequent heights that were recorded. However, as we can see from the histogram above, there are some outliers that fall within the 0 to 130 range that are far away from the main distribution."
   ]
  },
  {
   "cell_type": "markdown",
   "metadata": {
    "colab_type": "text",
    "id": "0u5VM5ksbCTm"
   },
   "source": [
    "### <span style=\"color:magenta\">Q5: 10 pt:</span>\n",
    "Blood pressure is reported as two numbers: diastolic (the lower number) and systolic (the higher number).  So, for example, if a person has a diastolic measurement of 80 and a systolic measurement of 120, the person's blood pressure would be reported as 120/80.\n",
    "\n",
    "Blood pressure measurements fall into several categories:\n",
    "\n",
    "Normal blood pressure. Your blood pressure is normal if it's below 120/80 mm Hg.\n",
    "\n",
    "Elevated blood pressure. Elevated blood pressure is a systolic pressure ranging from 120 to 129 mm Hg and a diastolic pressure below (not above) 80 mm Hg. Elevated blood pressure tends to get worse over time unless steps are taken to control blood pressure. Elevated blood pressure may also be called prehypertension.\n",
    "\n",
    "Stage 1 hypertension. Stage 1 hypertension is a systolic pressure ranging from 130 to 139 mm Hg or a diastolic pressure ranging from 80 to 89 mm Hg.\n",
    "\n",
    "Stage 2 hypertension. More-severe hypertension, stage 2 hypertension is a systolic pressure of 140 mm Hg or higher or a diastolic pressure of 90 mm Hg or higher.\n",
    "\n",
    "Hypertensive crisis. A blood pressure measurement higher than 180/120 mm Hg is an emergency situation that requires urgent medical care. If you get this result when you take your blood pressure at home, wait five minutes and retest. If your blood pressure is still this high, contact your doctor immediately. If you also have chest pain, vision problems, numbness or weakness, breathing difficulty, or any other signs and symptoms of a stroke or heart attack, call 911 or your local emergency medical number.\n",
    "\n",
    "Report the number of people in each of those categories."
   ]
  },
  {
   "cell_type": "code",
   "execution_count": 211,
   "metadata": {},
   "outputs": [
    {
     "data": {
      "text/plain": [
       "(13389, 12)"
      ]
     },
     "execution_count": 211,
     "metadata": {},
     "output_type": "execute_result"
    }
   ],
   "source": [
    "# First, let's remove the anomalous data points for blood pressure\n",
    "q5 = df[df['diastolic'] <= df['systolic']]\n",
    "q5.shape"
   ]
  },
  {
   "cell_type": "code",
   "execution_count": 212,
   "metadata": {},
   "outputs": [
    {
     "name": "stdout",
     "output_type": "stream",
     "text": [
      "Normal Blood Pressure: 2294\n",
      "Elevated Blood Pressure: 2423\n",
      "Stage 1 Hypertension: 5936\n",
      "Stage 2 Hypertension: 4416\n",
      "Hypertensive Crisis: 11094\n"
     ]
    }
   ],
   "source": [
    "# Normal Blood Pressure\n",
    "q5_1 = q5[q5['systolic']/q5['diastolic'] <= (120/80)]\n",
    "print(f'Normal Blood Pressure: {q5_1.shape[0]}')\n",
    "\n",
    "# Elevated Blood Pressure\n",
    "q5_2 = q5[((q5['systolic'] <= 129) & (q5['systolic'] >= 120)) & (q5['diastolic'] <= 80)]\n",
    "print(f'Elevated Blood Pressure: {q5_2.shape[0]}')\n",
    "\n",
    "# Stage 1 Hypertension\n",
    "q5_3 = q5[((q5['systolic'] <= 139) & (q5['systolic'] >= 130)) | ((q5['diastolic'] <= 89) & (q5['diastolic'] >= 80))]\n",
    "print(f'Stage 1 Hypertension: {q5_3.shape[0]}')\n",
    "\n",
    "# Stage 2 Hypertension\n",
    "q5_4 = q5[(q5['systolic'] >= 140)|(q5['diastolic'] >= 90)]\n",
    "print(f'Stage 2 Hypertension: {q5_4.shape[0]}')\n",
    "\n",
    "# Hypertensive Crisis\n",
    "q5_5 = q5[q5['systolic']/q5['diastolic'] > (180/120)]\n",
    "print(f'Hypertensive Crisis: {q5_5.shape[0]}')"
   ]
  },
  {
   "cell_type": "markdown",
   "metadata": {
    "colab_type": "text",
    "id": "CCuxztg3uYPQ"
   },
   "source": [
    "As a result, **2294** people from the dataset have normal blood pressure, while **11094** of them falls into the hypertensive crisis category. We can also see that **2423** of them falls in the elevated blood pressure category, **5936** of them are in stage 1 hypertension, and **4416** of them are in the stage 2 hypertension."
   ]
  },
  {
   "cell_type": "markdown",
   "metadata": {
    "colab_type": "text",
    "id": "2wH5ikUcbb16",
    "tags": []
   },
   "source": [
    "### <span style=\"color:magenta\">Q6: 10 pt:</span>\n",
    "Create a new variable \"age_class\" that is \"early\" if age < 40, \"middle\" if age is between 40 and 60 (inclusive) and \"late\" if age > 60.  Report the mean number of sit-ups counts for each of those categories.\n"
   ]
  },
  {
   "cell_type": "code",
   "execution_count": 213,
   "metadata": {
    "colab": {},
    "colab_type": "code",
    "id": "GneWWgFVt62N"
   },
   "outputs": [
    {
     "name": "stdout",
     "output_type": "stream",
     "text": [
      "45.305217082692536\n",
      "31.815140845070424\n",
      "24.060165975103736\n"
     ]
    }
   ],
   "source": [
    "def categorize(x):\n",
    "    if x < 40:\n",
    "        return 'early'\n",
    "    if x >= 40 and x <= 60:\n",
    "        return 'middle'\n",
    "    if x > 60:\n",
    "        return 'late'\n",
    "    \n",
    "df['age_class'] = df['age'].apply(lambda x: categorize(x))\n",
    "\n",
    "print(df[df['age_class'] == 'early']['sit-ups counts'].mean())\n",
    "print(df[df['age_class'] == 'middle']['sit-ups counts'].mean())\n",
    "print(df[df['age_class'] == 'late']['sit-ups counts'].mean())"
   ]
  },
  {
   "cell_type": "markdown",
   "metadata": {
    "colab_type": "text",
    "id": "WlWYu2_5uY7K"
   },
   "source": [
    "For people that are in the early age category, their average number of sit-up counts is **45.30**. As for people in the middle and late age category, their average number of sit-up counts are **31.81** and **24.06**, respectively. We could tell that, on average, the younger categories are capable of doing more sit-ups compared to the older categories. "
   ]
  },
  {
   "cell_type": "markdown",
   "metadata": {},
   "source": [
    "### <span style=\"color:magenta\">Q7: 10 pt: </span>\n",
    "Calculate each person's Body Mass Index (BMI).  With the metric system, the formula for BMI is weight in kilograms divided by height in meters squared. Since height is commonly measured in centimeters, an alternate calculation formula, dividing the weight in kilograms by the height in centimeters squared, and then multiplying the result by 10,000, can be used. (https://www.cdc.gov/nccdphp/dnpao/growthcharts/training/bmiage/page5_1.html)\n",
    "\n",
    "Create two histograms of BMI: one for gender F and one for gender M.  Describe similarites and differences of the two histograms."
   ]
  },
  {
   "cell_type": "code",
   "execution_count": 214,
   "metadata": {},
   "outputs": [
    {
     "data": {
      "text/plain": [
       "<matplotlib.legend.Legend at 0x7f7ee01e3d90>"
      ]
     },
     "execution_count": 214,
     "metadata": {},
     "output_type": "execute_result"
    },
    {
     "data": {
      "image/png": "[encoded data removed]",
      "text/plain": [
       "<Figure size 432x288 with 1 Axes>"
      ]
     },
     "metadata": {
      "needs_background": "light"
     },
     "output_type": "display_data"
    }
   ],
   "source": [
    "df['BMI'] = df['weight_kg']/(df['height_cm']/100)**2\n",
    "\n",
    "f = df[df['gender'] == 'F']['BMI']\n",
    "m = df[df['gender'] == 'M']['BMI']\n",
    "\n",
    "plt.hist(f, bins = 30,alpha=0.5, label = 'Female')\n",
    "plt.hist(m, bins = 30,alpha=0.5, label = 'Male')\n",
    "\n",
    "plt.axvline(f.mean(), color='blue', linewidth=1)\n",
    "plt.axvline(m.mean(), color='red', linewidth=1)\n",
    "plt.legend()"
   ]
  },
  {
   "cell_type": "markdown",
   "metadata": {
    "colab_type": "text",
    "id": "CCuxztg3uYPQ"
   },
   "source": [
    "As shown in the graph above, the average BMI of the males from the dataset are higher than the females. Aside from that, we could see that there are much more male data recorded compared to female data. In terms of similarities, both the male and female distribution look normally distributed and both of their BMIs fall within the approximate range of 10 to 40."
   ]
  },
  {
   "cell_type": "markdown",
   "metadata": {
    "colab_type": "text",
    "id": "7n5ybXFQcR-g"
   },
   "source": [
    "### <span style=\"color:magenta\">Q8: 10 pt: </span>\n",
    "Compare the mean values of height, weight, body fat %, grip force, sit and bend forward, and sit-ups count for gender F vs. gender M.  You should use both quantitative and visual methods in your work.\n"
   ]
  },
  {
   "cell_type": "code",
   "execution_count": 215,
   "metadata": {
    "colab": {},
    "colab_type": "code",
    "id": "FoWTh2ekt8Wp"
   },
   "outputs": [
    {
     "name": "stdout",
     "output_type": "stream",
     "text": [
      "gender\n",
      "F    160.485404\n",
      "M    173.257399\n",
      "Name: height_cm, dtype: float64\n"
     ]
    },
    {
     "data": {
      "text/plain": [
       "<BarContainer object of 2 artists>"
      ]
     },
     "execution_count": 215,
     "metadata": {},
     "output_type": "execute_result"
    },
    {
     "data": {
      "image/png": "[encoded data removed]",
      "text/plain": [
       "<Figure size 432x288 with 1 Axes>"
      ]
     },
     "metadata": {
      "needs_background": "light"
     },
     "output_type": "display_data"
    }
   ],
   "source": [
    "# Height\n",
    "print (df.groupby(['gender'])['height_cm'].mean())\n",
    "\n",
    "y = df.groupby(['gender'])['height_cm'].mean().to_list()\n",
    "plt.bar(['Female','Male'], y)"
   ]
  },
  {
   "cell_type": "markdown",
   "metadata": {},
   "source": [
    "The average male height of this dataset is **173.27 cm**, whereas the average female height is **160.48 cm**. This means that the average male height is greater than the average female height."
   ]
  },
  {
   "cell_type": "code",
   "execution_count": 216,
   "metadata": {},
   "outputs": [
    {
     "name": "stdout",
     "output_type": "stream",
     "text": [
      "gender\n",
      "F    56.905899\n",
      "M    73.580187\n",
      "Name: weight_kg, dtype: float64\n"
     ]
    },
    {
     "data": {
      "text/plain": [
       "<BarContainer object of 2 artists>"
      ]
     },
     "execution_count": 216,
     "metadata": {},
     "output_type": "execute_result"
    },
    {
     "data": {
      "image/png": "[encoded data removed]",
      "text/plain": [
       "<Figure size 432x288 with 1 Axes>"
      ]
     },
     "metadata": {
      "needs_background": "light"
     },
     "output_type": "display_data"
    }
   ],
   "source": [
    "# Weight\n",
    "print (df.groupby(['gender'])['weight_kg'].mean())\n",
    "\n",
    "y = df.groupby(['gender'])['weight_kg'].mean().to_list()\n",
    "plt.bar(['Female','Male'], y)"
   ]
  },
  {
   "cell_type": "markdown",
   "metadata": {},
   "source": [
    "The average male weight of this dataset is **73.58 kg**, whereas the average female weight is **56.90 kg**. This means that the average male weight is greater than the average female weight."
   ]
  },
  {
   "cell_type": "code",
   "execution_count": 217,
   "metadata": {},
   "outputs": [
    {
     "name": "stdout",
     "output_type": "stream",
     "text": [
      "gender\n",
      "F    28.486085\n",
      "M    20.188151\n",
      "Name: body fat_%, dtype: float64\n"
     ]
    },
    {
     "data": {
      "text/plain": [
       "<BarContainer object of 2 artists>"
      ]
     },
     "execution_count": 217,
     "metadata": {},
     "output_type": "execute_result"
    },
    {
     "data": {
      "image/png": "[encoded data removed]",
      "text/plain": [
       "<Figure size 432x288 with 1 Axes>"
      ]
     },
     "metadata": {
      "needs_background": "light"
     },
     "output_type": "display_data"
    }
   ],
   "source": [
    "# Body Fat %\n",
    "print (df.groupby(['gender'])['body fat_%'].mean())\n",
    "\n",
    "y = df.groupby(['gender'])['body fat_%'].mean().to_list()\n",
    "plt.bar(['Female','Male'], y)"
   ]
  },
  {
   "cell_type": "markdown",
   "metadata": {},
   "source": [
    "The average male body fat percentage of this dataset is **20.18%**, whereas the average female body fat percentage is **28.48%**. This means that the average female body fat percentage is greater than the average male body fat percentage."
   ]
  },
  {
   "cell_type": "code",
   "execution_count": 218,
   "metadata": {},
   "outputs": [
    {
     "name": "stdout",
     "output_type": "stream",
     "text": [
      "gender\n",
      "F    25.817994\n",
      "M    43.448420\n",
      "Name: gripForce, dtype: float64\n"
     ]
    },
    {
     "data": {
      "text/plain": [
       "<BarContainer object of 2 artists>"
      ]
     },
     "execution_count": 218,
     "metadata": {},
     "output_type": "execute_result"
    },
    {
     "data": {
      "image/png": "[encoded data removed]",
      "text/plain": [
       "<Figure size 432x288 with 1 Axes>"
      ]
     },
     "metadata": {
      "needs_background": "light"
     },
     "output_type": "display_data"
    }
   ],
   "source": [
    "# Grip Force\n",
    "print (df.groupby(['gender'])['gripForce'].mean())\n",
    "\n",
    "y = df.groupby(['gender'])['gripForce'].mean().to_list()\n",
    "plt.bar(['Female','Male'], y)"
   ]
  },
  {
   "cell_type": "markdown",
   "metadata": {},
   "source": [
    "The average male grip force of this dataset is **43.44**, whereas the average female grip force is **25.81**. This means that the average male grip force is greater than the average female grip force."
   ]
  },
  {
   "cell_type": "code",
   "execution_count": 219,
   "metadata": {},
   "outputs": [
    {
     "name": "stdout",
     "output_type": "stream",
     "text": [
      "gender\n",
      "F    18.839791\n",
      "M    13.097073\n",
      "Name: sit and bend forward_cm, dtype: float64\n"
     ]
    },
    {
     "data": {
      "text/plain": [
       "<BarContainer object of 2 artists>"
      ]
     },
     "execution_count": 219,
     "metadata": {},
     "output_type": "execute_result"
    },
    {
     "data": {
      "image/png": "[encoded data removed]",
      "text/plain": [
       "<Figure size 432x288 with 1 Axes>"
      ]
     },
     "metadata": {
      "needs_background": "light"
     },
     "output_type": "display_data"
    }
   ],
   "source": [
    "# Sit and bend forward\n",
    "print (df.groupby(['gender'])['sit and bend forward_cm'].mean())\n",
    "\n",
    "y = df.groupby(['gender'])['sit and bend forward_cm'].mean().to_list()\n",
    "plt.bar(['Female','Male'], y)"
   ]
  },
  {
   "cell_type": "markdown",
   "metadata": {},
   "source": [
    "The average male sit and bend forward length of this dataset is **13.09 cm**, whereas the average female sit and bend forward length is **18.83 cm**. This means that the average female sit and bend forward length is greater than the average male sit and bend forward length."
   ]
  },
  {
   "cell_type": "code",
   "execution_count": 220,
   "metadata": {},
   "outputs": [
    {
     "name": "stdout",
     "output_type": "stream",
     "text": [
      "gender\n",
      "F    30.888348\n",
      "M    44.939176\n",
      "Name: sit-ups counts, dtype: float64\n"
     ]
    },
    {
     "data": {
      "text/plain": [
       "<BarContainer object of 2 artists>"
      ]
     },
     "execution_count": 220,
     "metadata": {},
     "output_type": "execute_result"
    },
    {
     "data": {
      "image/png": "[encoded data removed]",
      "text/plain": [
       "<Figure size 432x288 with 1 Axes>"
      ]
     },
     "metadata": {
      "needs_background": "light"
     },
     "output_type": "display_data"
    }
   ],
   "source": [
    "# Sit-ups counts\n",
    "print (df.groupby(['gender'])['sit-ups counts'].mean())\n",
    "\n",
    "y = df.groupby(['gender'])['sit-ups counts'].mean().to_list()\n",
    "plt.bar(['Female','Male'], y)"
   ]
  },
  {
   "cell_type": "markdown",
   "metadata": {},
   "source": [
    "The average male sit-up counts of this dataset is **44.93**, whereas the average female sit-up counts is **30.88**. This means that the average male sit-up counts is greater than the average female sit-up counts."
   ]
  },
  {
   "cell_type": "markdown",
   "metadata": {
    "colab_type": "text",
    "id": "wGoiQk8XbqHw"
   },
   "source": [
    "### <span style=\"color:magenta\">Q9: 15 pt: </span>\n",
    "Take a look at gripForce (a measure of strength), \"sit and bend forward\" (a measure of flexibility), and \"sit-ups count\" (a measures of strength and endurance of the abdominals and hip-flexor muscles).  For each of those measures, calculate their z-scores (i.e. subtract the mean of the variable from each observation, then divide by the standard deviation of that score).  Create an overall fitness score by adding the z-scores for each of those variables together, then use `pd.qcut()` (not `pd.cut()`) to assign them to five categories ranging from lowest score to highest score.  Report the number of individuals in each of the resulting categories."
   ]
  },
  {
   "cell_type": "code",
   "execution_count": 223,
   "metadata": {
    "colab": {},
    "colab_type": "code",
    "id": "FoWTh2ekt8Wp"
   },
   "outputs": [
    {
     "data": {
      "text/html": [
       "<div>\n",
       "<style scoped>\n",
       "    .dataframe tbody tr th:only-of-type {\n",
       "        vertical-align: middle;\n",
       "    }\n",
       "\n",
       "    .dataframe tbody tr th {\n",
       "        vertical-align: top;\n",
       "    }\n",
       "\n",
       "    .dataframe thead th {\n",
       "        text-align: right;\n",
       "    }\n",
       "</style>\n",
       "<table border=\"1\" class=\"dataframe\">\n",
       "  <thead>\n",
       "    <tr style=\"text-align: right;\">\n",
       "      <th></th>\n",
       "      <th>age</th>\n",
       "      <th>gender</th>\n",
       "      <th>height_cm</th>\n",
       "      <th>weight_kg</th>\n",
       "      <th>body fat_%</th>\n",
       "      <th>diastolic</th>\n",
       "      <th>systolic</th>\n",
       "      <th>gripForce</th>\n",
       "      <th>sit and bend forward_cm</th>\n",
       "      <th>sit-ups counts</th>\n",
       "      <th>broad jump_cm</th>\n",
       "      <th>class</th>\n",
       "      <th>age_class</th>\n",
       "      <th>BMI</th>\n",
       "      <th>fitness_class</th>\n",
       "    </tr>\n",
       "  </thead>\n",
       "  <tbody>\n",
       "    <tr>\n",
       "      <th>0</th>\n",
       "      <td>27.0</td>\n",
       "      <td>M</td>\n",
       "      <td>172.3</td>\n",
       "      <td>75.24</td>\n",
       "      <td>21.3</td>\n",
       "      <td>80.0</td>\n",
       "      <td>130.0</td>\n",
       "      <td>54.9</td>\n",
       "      <td>18.4</td>\n",
       "      <td>60.0</td>\n",
       "      <td>217.0</td>\n",
       "      <td>C</td>\n",
       "      <td>early</td>\n",
       "      <td>25.344179</td>\n",
       "      <td>high</td>\n",
       "    </tr>\n",
       "    <tr>\n",
       "      <th>1</th>\n",
       "      <td>25.0</td>\n",
       "      <td>M</td>\n",
       "      <td>165.0</td>\n",
       "      <td>55.80</td>\n",
       "      <td>15.7</td>\n",
       "      <td>77.0</td>\n",
       "      <td>126.0</td>\n",
       "      <td>36.4</td>\n",
       "      <td>16.3</td>\n",
       "      <td>53.0</td>\n",
       "      <td>229.0</td>\n",
       "      <td>A</td>\n",
       "      <td>early</td>\n",
       "      <td>20.495868</td>\n",
       "      <td>medium</td>\n",
       "    </tr>\n",
       "    <tr>\n",
       "      <th>2</th>\n",
       "      <td>31.0</td>\n",
       "      <td>M</td>\n",
       "      <td>179.6</td>\n",
       "      <td>78.00</td>\n",
       "      <td>20.1</td>\n",
       "      <td>92.0</td>\n",
       "      <td>152.0</td>\n",
       "      <td>44.8</td>\n",
       "      <td>12.0</td>\n",
       "      <td>49.0</td>\n",
       "      <td>181.0</td>\n",
       "      <td>C</td>\n",
       "      <td>early</td>\n",
       "      <td>24.181428</td>\n",
       "      <td>medium-high</td>\n",
       "    </tr>\n",
       "    <tr>\n",
       "      <th>3</th>\n",
       "      <td>32.0</td>\n",
       "      <td>M</td>\n",
       "      <td>174.5</td>\n",
       "      <td>71.10</td>\n",
       "      <td>18.4</td>\n",
       "      <td>76.0</td>\n",
       "      <td>147.0</td>\n",
       "      <td>41.4</td>\n",
       "      <td>15.2</td>\n",
       "      <td>53.0</td>\n",
       "      <td>219.0</td>\n",
       "      <td>B</td>\n",
       "      <td>early</td>\n",
       "      <td>23.349562</td>\n",
       "      <td>medium-high</td>\n",
       "    </tr>\n",
       "    <tr>\n",
       "      <th>4</th>\n",
       "      <td>28.0</td>\n",
       "      <td>M</td>\n",
       "      <td>173.8</td>\n",
       "      <td>67.70</td>\n",
       "      <td>17.1</td>\n",
       "      <td>70.0</td>\n",
       "      <td>127.0</td>\n",
       "      <td>43.5</td>\n",
       "      <td>27.1</td>\n",
       "      <td>45.0</td>\n",
       "      <td>217.0</td>\n",
       "      <td>B</td>\n",
       "      <td>early</td>\n",
       "      <td>22.412439</td>\n",
       "      <td>medium-high</td>\n",
       "    </tr>\n",
       "  </tbody>\n",
       "</table>\n",
       "</div>"
      ],
      "text/plain": [
       "    age gender  height_cm  weight_kg  body fat_%  diastolic  systolic  \\\n",
       "0  27.0      M      172.3      75.24        21.3       80.0     130.0   \n",
       "1  25.0      M      165.0      55.80        15.7       77.0     126.0   \n",
       "2  31.0      M      179.6      78.00        20.1       92.0     152.0   \n",
       "3  32.0      M      174.5      71.10        18.4       76.0     147.0   \n",
       "4  28.0      M      173.8      67.70        17.1       70.0     127.0   \n",
       "\n",
       "   gripForce  sit and bend forward_cm  sit-ups counts  broad jump_cm class  \\\n",
       "0       54.9                     18.4            60.0          217.0     C   \n",
       "1       36.4                     16.3            53.0          229.0     A   \n",
       "2       44.8                     12.0            49.0          181.0     C   \n",
       "3       41.4                     15.2            53.0          219.0     B   \n",
       "4       43.5                     27.1            45.0          217.0     B   \n",
       "\n",
       "  age_class        BMI fitness_class  \n",
       "0     early  25.344179          high  \n",
       "1     early  20.495868        medium  \n",
       "2     early  24.181428   medium-high  \n",
       "3     early  23.349562   medium-high  \n",
       "4     early  22.412439   medium-high  "
      ]
     },
     "execution_count": 223,
     "metadata": {},
     "output_type": "execute_result"
    }
   ],
   "source": [
    "a = df['gripForce'].apply(lambda x: (x - df['gripForce'].mean())/df['gripForce'].std())\n",
    "b_ = df['sit and bend forward_cm'].apply(lambda x: (x - df['sit and bend forward_cm'].mean())/df['sit and bend forward_cm'].std())\n",
    "c = df['sit-ups counts'].apply(lambda x: (x - df['sit-ups counts'].mean())/df['sit-ups counts'].std())\n",
    "total = a + b + c\n",
    "\n",
    "df['fitness_class'] = pd.qcut(total, 5, labels=['low', 'medium-low', 'medium', 'medium-high','high'])\n",
    "df.head(5)"
   ]
  },
  {
   "cell_type": "code",
   "execution_count": 229,
   "metadata": {},
   "outputs": [
    {
     "name": "stdout",
     "output_type": "stream",
     "text": [
      "2679\n",
      "2678\n",
      "2680\n",
      "2677\n",
      "2679\n"
     ]
    }
   ],
   "source": [
    "print(df[df['fitness_class'] == 'low'].shape[0])\n",
    "print(df[df['fitness_class'] == 'medium-low'].shape[0])\n",
    "print(df[df['fitness_class'] == 'medium'].shape[0])\n",
    "print(df[df['fitness_class'] == 'medium-high'].shape[0])\n",
    "print(df[df['fitness_class'] == 'high'].shape[0])"
   ]
  },
  {
   "cell_type": "markdown",
   "metadata": {},
   "source": [
    "The number of indivduals for the \"low\", \"medium-low\", \"medium\", \"medium-high\", and \"high\" category are **2679, 2678, 2680, 2677**, and **2679 people**, respectively."
   ]
  },
  {
   "cell_type": "markdown",
   "metadata": {
    "colab_type": "text",
    "id": "zKkwrNfbJ9zN"
   },
   "source": [
    "## Please submit your completed notebook in .IPYNB and .HTML formats via Canvas"
   ]
  }
 ],
 "metadata": {
  "colab": {
   "collapsed_sections": [],
   "name": "SI 618 FA 2018 Homework 1.ipynb",
   "provenance": [],
   "version": "0.3.2"
  },
  "kernelspec": {
   "display_name": "Python 3 (ipykernel)",
   "language": "python",
   "name": "python3"
  },
  "language_info": {
   "codemirror_mode": {
    "name": "ipython",
    "version": 3
   },
   "file_extension": ".py",
   "mimetype": "text/x-python",
   "name": "python",
   "nbconvert_exporter": "python",
   "pygments_lexer": "ipython3",
   "version": "3.8.8"
  }
 },
 "nbformat": 4,
 "nbformat_minor": 4
}
